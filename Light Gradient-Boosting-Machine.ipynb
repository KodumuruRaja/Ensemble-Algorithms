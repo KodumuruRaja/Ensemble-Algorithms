{
  "nbformat": 4,
  "nbformat_minor": 0,
  "metadata": {
    "colab": {
      "name": "Light GBM.ipynb",
      "provenance": [],
      "collapsed_sections": [],
      "authorship_tag": "ABX9TyP50T0uIzg6ISBQFUU691GZ",
      "include_colab_link": true
    },
    "kernelspec": {
      "name": "python3",
      "display_name": "Python 3"
    }
  },
  "cells": [
    {
      "cell_type": "markdown",
      "metadata": {
        "id": "view-in-github",
        "colab_type": "text"
      },
      "source": [
        "<a href=\"https://colab.research.google.com/github/KodumuruRaja/Ensemble-Algorithms/blob/main/Light%20Gradient-Boosting-Machine.ipynb\" target=\"_parent\"><img src=\"https://colab.research.google.com/assets/colab-badge.svg\" alt=\"Open In Colab\"/></a>"
      ]
    },
    {
      "cell_type": "code",
      "metadata": {
        "id": "J5J-7zI7secg"
      },
      "source": [
        "import pandas as pd\r\n",
        "import numpy as np\r\n",
        "pd.set_option('display.max_columns',200)\r\n",
        "import lightgbm as lgb\r\n",
        "import xgboost as xgb\r\n",
        "from sklearn.model_selection import train_test_split"
      ],
      "execution_count": null,
      "outputs": []
    },
    {
      "cell_type": "code",
      "metadata": {
        "colab": {
          "base_uri": "https://localhost:8080/"
        },
        "id": "0eSlYG4Ysucw",
        "outputId": "4df1e8d8-40e7-42c9-f314-1e0500f50fff"
      },
      "source": [
        "data = pd.read_csv(\"/content/train.csv\",skiprows=1,header=None)\r\n",
        "data.columns = ['age','workclass','fnlwgt','education','education-num','marital_Status','occupation','relationship','race','sex','capital_gain','capital_loss','hours_per_week','native_country','Income'] \r\n",
        "print(data.head())"
      ],
      "execution_count": null,
      "outputs": [
        {
          "output_type": "stream",
          "text": [
            "   age          workclass  fnlwgt   education  education-num  \\\n",
            "0   39          State-gov   77516   Bachelors             13   \n",
            "1   50   Self-emp-not-inc   83311   Bachelors             13   \n",
            "2   38            Private  215646     HS-grad              9   \n",
            "3   53            Private  234721        11th              7   \n",
            "4   28            Private  338409   Bachelors             13   \n",
            "\n",
            "        marital_Status          occupation    relationship    race      sex  \\\n",
            "0        Never-married        Adm-clerical   Not-in-family   White     Male   \n",
            "1   Married-civ-spouse     Exec-managerial         Husband   White     Male   \n",
            "2             Divorced   Handlers-cleaners   Not-in-family   White     Male   \n",
            "3   Married-civ-spouse   Handlers-cleaners         Husband   Black     Male   \n",
            "4   Married-civ-spouse      Prof-specialty            Wife   Black   Female   \n",
            "\n",
            "   capital_gain  capital_loss  hours_per_week  native_country  Income  \n",
            "0          2174             0              40   United-States   <=50K  \n",
            "1             0             0              13   United-States   <=50K  \n",
            "2             0             0              40   United-States   <=50K  \n",
            "3             0             0              40   United-States   <=50K  \n",
            "4             0             0              40            Cuba   <=50K  \n"
          ],
          "name": "stdout"
        }
      ]
    },
    {
      "cell_type": "code",
      "metadata": {
        "colab": {
          "base_uri": "https://localhost:8080/"
        },
        "id": "U3jfNedwvYuK",
        "outputId": "70444eb2-2e9c-4576-ae1f-0dbdadfeaec3"
      },
      "source": [
        "data.Income=data.Income.astype(str)\r\n",
        "data.Income.dtype"
      ],
      "execution_count": null,
      "outputs": [
        {
          "output_type": "execute_result",
          "data": {
            "text/plain": [
              "dtype('O')"
            ]
          },
          "metadata": {
            "tags": []
          },
          "execution_count": 3
        }
      ]
    },
    {
      "cell_type": "code",
      "metadata": {
        "id": "T-XCBju-suIT"
      },
      "source": [
        "from sklearn.preprocessing import LabelEncoder,OneHotEncoder\r\n",
        "l = LabelEncoder()\r\n",
        "data.Income = l.fit_transform(data[\"Income\"])"
      ],
      "execution_count": null,
      "outputs": []
    },
    {
      "cell_type": "code",
      "metadata": {
        "id": "7cuozZrjstdJ"
      },
      "source": [
        "v = pd.get_dummies(data[['workclass','education','marital_Status','occupation','relationship','race','sex','native_country']])\r\n",
        "w = data.drop(['workclass','education','marital_Status','occupation','relationship','race','sex','native_country'],axis=1)"
      ],
      "execution_count": null,
      "outputs": []
    },
    {
      "cell_type": "code",
      "metadata": {
        "id": "lI4fsqT9stIK"
      },
      "source": [
        "new_data = v.join(w)\r\n",
        "_,i = np.unique(new_data.columns, return_index=True)\r\n",
        "new_data = new_data.iloc[:,i]"
      ],
      "execution_count": null,
      "outputs": []
    },
    {
      "cell_type": "code",
      "metadata": {
        "id": "EdoyXsFvss0o"
      },
      "source": [
        "x = new_data.drop('Income', axis=1)\r\n",
        "y = new_data.Income"
      ],
      "execution_count": null,
      "outputs": []
    },
    {
      "cell_type": "code",
      "metadata": {
        "id": "qdYftA2bssiY"
      },
      "source": [
        "y.fillna(y.mode()[0], inplace=True)\r\n",
        "x_train, x_test, y_train, y_test = train_test_split(x,y,test_size=0.2,random_state=42)"
      ],
      "execution_count": null,
      "outputs": []
    },
    {
      "cell_type": "markdown",
      "metadata": {
        "id": "b01XUw_MtNOm"
      },
      "source": [
        "# **XGBoost**"
      ]
    },
    {
      "cell_type": "code",
      "metadata": {
        "id": "4d8Nv8HYyGzg"
      },
      "source": [
        "dtrain = xgb.DMatrix(x_train, label=y_train)\r\n",
        "dtest  = xgb.DMatrix(x_test)"
      ],
      "execution_count": null,
      "outputs": []
    },
    {
      "cell_type": "code",
      "metadata": {
        "id": "hLBRMu80ssPg"
      },
      "source": [
        "parameter = {'max_depth' : 7, 'eta' : 1, 'silent':1, 'objective' : 'binary:logistic', 'eval_matric' : 'auc', 'learning_rate' : 0.05}\r\n",
        "num_round = 50"
      ],
      "execution_count": null,
      "outputs": []
    },
    {
      "cell_type": "code",
      "metadata": {
        "id": "KjkLHNLYsr7v"
      },
      "source": [
        "from datetime import datetime\r\n",
        "start = datetime.now()\r\n",
        "xg = xgb.train(parameter,dtrain,num_round)\r\n",
        "stop = datetime.now()"
      ],
      "execution_count": null,
      "outputs": []
    },
    {
      "cell_type": "code",
      "metadata": {
        "colab": {
          "base_uri": "https://localhost:8080/"
        },
        "id": "aL3h7A60srlS",
        "outputId": "ad67df3a-2c0a-4c26-8a19-4ccda681c853"
      },
      "source": [
        "execution_time_xgb = stop - start\r\n",
        "print('--'*20,execution_time_xgb,'--'*20)"
      ],
      "execution_count": null,
      "outputs": [
        {
          "output_type": "stream",
          "text": [
            "---------------------------------------- 0:00:05.467221 ----------------------------------------\n"
          ],
          "name": "stdout"
        }
      ]
    },
    {
      "cell_type": "code",
      "metadata": {
        "colab": {
          "base_uri": "https://localhost:8080/"
        },
        "id": "sxHlxLetsrMv",
        "outputId": "85ab5d30-7b7e-4972-bedf-425ef2edfb71"
      },
      "source": [
        "ypred = xg.predict(dtest)\r\n",
        "print(ypred)"
      ],
      "execution_count": null,
      "outputs": [
        {
          "output_type": "stream",
          "text": [
            "[0.04278268 0.42322132 0.68330294 ... 0.9580553  0.04597957 0.04278268]\n"
          ],
          "name": "stdout"
        }
      ]
    },
    {
      "cell_type": "code",
      "metadata": {
        "colab": {
          "base_uri": "https://localhost:8080/"
        },
        "id": "Q_3w_cbOsqxd",
        "outputId": "28980abf-b0c3-4463-c0af-d6f98b33607a"
      },
      "source": [
        "print(ypred.shape[0])"
      ],
      "execution_count": null,
      "outputs": [
        {
          "output_type": "stream",
          "text": [
            "6513\n"
          ],
          "name": "stdout"
        }
      ]
    },
    {
      "cell_type": "code",
      "metadata": {
        "id": "0dawY6VFsqA9"
      },
      "source": [
        "for i in range(ypred.shape[0]):\r\n",
        "    if ypred[i] > 0.5:\r\n",
        "        ypred[i] = 1\r\n",
        "    else:\r\n",
        "        ypred[i] = 0"
      ],
      "execution_count": null,
      "outputs": []
    },
    {
      "cell_type": "code",
      "metadata": {
        "colab": {
          "base_uri": "https://localhost:8080/"
        },
        "id": "dWu3aHlusprt",
        "outputId": "58167224-743b-4e4e-ba7f-ceaab7600551"
      },
      "source": [
        "from sklearn.metrics import accuracy_score, confusion_matrix\r\n",
        "acc_xgb = accuracy_score(y_test,ypred)\r\n",
        "print(confusion_matrix(y_test, ypred))"
      ],
      "execution_count": null,
      "outputs": [
        {
          "output_type": "stream",
          "text": [
            "[[4712  230]\n",
            " [ 636  935]]\n"
          ],
          "name": "stdout"
        }
      ]
    },
    {
      "cell_type": "markdown",
      "metadata": {
        "id": "NAEzUeOYtjXE"
      },
      "source": [
        "# **Light GBM**"
      ]
    },
    {
      "cell_type": "code",
      "metadata": {
        "id": "XLfps6Eitlmi"
      },
      "source": [
        "train_dataset = lgb.Dataset(x_train,label=y_train)"
      ],
      "execution_count": null,
      "outputs": []
    },
    {
      "cell_type": "code",
      "metadata": {
        "id": "dQHqvebAtqCA"
      },
      "source": [
        "param = {'num_leaves' : 150, 'objective' : 'binary', 'max_depth' : 7, 'learning_rate' : 0.05, 'max_bin' : 200}\r\n",
        "param['metric'] = ['auc', 'binary_logloss']\r\n",
        "num_round = 50"
      ],
      "execution_count": null,
      "outputs": []
    },
    {
      "cell_type": "code",
      "metadata": {
        "id": "8yhZ1oHrtt2h"
      },
      "source": [
        "from datetime import datetime\r\n",
        "start = datetime.now()\r\n",
        "lgb = lgb.train(param,train_dataset,num_round)\r\n",
        "stop = datetime.now()"
      ],
      "execution_count": null,
      "outputs": []
    },
    {
      "cell_type": "code",
      "metadata": {
        "colab": {
          "base_uri": "https://localhost:8080/"
        },
        "id": "vXDDZ_m5tySB",
        "outputId": "91b71863-7418-44df-b29f-1e9c6c408db0"
      },
      "source": [
        "execution_time_lgb = stop - start\r\n",
        "print('--'*20,execution_time_lgb,'--'*20)"
      ],
      "execution_count": null,
      "outputs": [
        {
          "output_type": "stream",
          "text": [
            "---------------------------------------- 0:00:00.395326 ----------------------------------------\n"
          ],
          "name": "stdout"
        }
      ]
    },
    {
      "cell_type": "code",
      "metadata": {
        "colab": {
          "base_uri": "https://localhost:8080/"
        },
        "id": "dhgJ9B-1t1Gt",
        "outputId": "71179b2c-31f7-4909-d6a2-3b8915eced43"
      },
      "source": [
        "ypred2 = lgb.predict(x_test)\r\n",
        "print(ypred2)"
      ],
      "execution_count": null,
      "outputs": [
        {
          "output_type": "stream",
          "text": [
            "[0.02359206 0.42114255 0.66116852 ... 0.93998318 0.02611022 0.0222638 ]\n"
          ],
          "name": "stdout"
        }
      ]
    },
    {
      "cell_type": "code",
      "metadata": {
        "id": "67kUNeSXt3iq"
      },
      "source": [
        "for i in range(ypred2.shape[0]):\r\n",
        "    if ypred2[i] > 0.5:\r\n",
        "        ypred2[i] = 1\r\n",
        "    else:\r\n",
        "        ypred2[i] = 0"
      ],
      "execution_count": null,
      "outputs": []
    },
    {
      "cell_type": "code",
      "metadata": {
        "colab": {
          "base_uri": "https://localhost:8080/"
        },
        "id": "YtHW5h1Yt8Sb",
        "outputId": "3aa6b203-43c6-402d-a1d0-40f9fa2bfd76"
      },
      "source": [
        "lgb_xgb = accuracy_score(y_test,ypred2)\r\n",
        "print(confusion_matrix(y_test, ypred2))"
      ],
      "execution_count": null,
      "outputs": [
        {
          "output_type": "stream",
          "text": [
            "[[4732  210]\n",
            " [ 660  911]]\n"
          ],
          "name": "stdout"
        }
      ]
    },
    {
      "cell_type": "code",
      "metadata": {
        "colab": {
          "base_uri": "https://localhost:8080/"
        },
        "id": "E5Xm28OcuCio",
        "outputId": "3f0dd1d7-8032-4c96-b2d4-d81975b648b7"
      },
      "source": [
        "from sklearn.metrics import roc_auc_score\r\n",
        "xgb_auc = roc_auc_score(y_test,ypred)\r\n",
        "lgb_auc = roc_auc_score(y_test,ypred2)\r\n",
        "comparision_dict = {'accuracy score' : [acc_xgb,lgb_xgb],'auc score' : [xgb_auc,lgb_auc,],'execution time' : [execution_time_xgb,execution_time_lgb]}\r\n",
        "comparision_df = pd.DataFrame(comparision_dict)\r\n",
        "comparision_df.index = ['Xgboost', 'LighGBM']\r\n",
        "print(comparision_df)"
      ],
      "execution_count": null,
      "outputs": [
        {
          "output_type": "stream",
          "text": [
            "         accuracy score  auc score         execution time\n",
            "Xgboost        0.867035   0.774311 0 days 00:00:05.467221\n",
            "LighGBM        0.866421   0.768696 0 days 00:00:00.395326\n"
          ],
          "name": "stdout"
        }
      ]
    }
  ]
}