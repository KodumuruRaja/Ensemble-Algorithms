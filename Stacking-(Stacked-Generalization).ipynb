{
  "nbformat": 4,
  "nbformat_minor": 0,
  "metadata": {
    "colab": {
      "name": "Stacking (Stacked Generalization).ipynb",
      "provenance": [],
      "collapsed_sections": [],
      "authorship_tag": "ABX9TyOq2VzCnlQMZZ8rDVX8oXij",
      "include_colab_link": true
    },
    "kernelspec": {
      "name": "python3",
      "display_name": "Python 3"
    }
  },
  "cells": [
    {
      "cell_type": "markdown",
      "metadata": {
        "id": "view-in-github",
        "colab_type": "text"
      },
      "source": [
        "<a href=\"https://colab.research.google.com/github/KodumuruRaja/Ensemble-Algorithms/blob/main/Stacking-(Stacked-Generalization).ipynb\" target=\"_parent\"><img src=\"https://colab.research.google.com/assets/colab-badge.svg\" alt=\"Open In Colab\"/></a>"
      ]
    },
    {
      "cell_type": "code",
      "metadata": {
        "colab": {
          "base_uri": "https://localhost:8080/"
        },
        "id": "WRd-6CygSpa8",
        "outputId": "c7c1581c-c58b-4241-ecf6-0aa82ec8c4ad"
      },
      "source": [
        "from sklearn.ensemble import RandomForestClassifier\r\n",
        "from sklearn.svm import LinearSVC\r\n",
        "from sklearn.linear_model import LogisticRegression\r\n",
        "from sklearn.naive_bayes import GaussianNB\r\n",
        "from sklearn.neighbors import KNeighborsClassifier\r\n",
        "from sklearn import model_selection\r\n",
        "from mlxtend.classifier import StackingClassifier\r\n",
        "from sklearn import datasets\r\n",
        "import warnings\r\n",
        "warnings.filterwarnings('ignore')"
      ],
      "execution_count": null,
      "outputs": [
        {
          "output_type": "stream",
          "text": [
            "/usr/local/lib/python3.7/dist-packages/sklearn/externals/six.py:31: FutureWarning: The module is deprecated in version 0.21 and will be removed in version 0.23 since we've dropped support for Python 2.7. Please rely on the official version of six (https://pypi.org/project/six/).\n",
            "  \"(https://pypi.org/project/six/).\", FutureWarning)\n"
          ],
          "name": "stderr"
        }
      ]
    },
    {
      "cell_type": "code",
      "metadata": {
        "id": "u2Z5vk7iTa-U"
      },
      "source": [
        "iris=datasets.load_iris()\r\n",
        "x_train=iris.data[:,1:3]\r\n",
        "y_train=iris.target"
      ],
      "execution_count": null,
      "outputs": []
    },
    {
      "cell_type": "code",
      "metadata": {
        "id": "2IVKnZ-1T1KO"
      },
      "source": [
        "myclf1=KNeighborsClassifier(n_neighbors=1)\r\n",
        "myclf2=RandomForestClassifier(random_state=1)\r\n",
        "myclf3=GaussianNB()\r\n",
        "lr=LogisticRegression()"
      ],
      "execution_count": null,
      "outputs": []
    },
    {
      "cell_type": "code",
      "metadata": {
        "id": "HEjIrbVcUCZp"
      },
      "source": [
        "stackingclf=StackingClassifier(classifiers=[myclf1,myclf2,myclf3],meta_classifier=lr)"
      ],
      "execution_count": null,
      "outputs": []
    },
    {
      "cell_type": "code",
      "metadata": {
        "colab": {
          "base_uri": "https://localhost:8080/"
        },
        "id": "ppedCOKNU5_6",
        "outputId": "90875ced-8fcc-416d-f310-0ecd10d5080b"
      },
      "source": [
        "print('Doing 3-fold cross validation here:\\n')\r\n",
        "for iterclf,iterlabel in zip([myclf1,myclf2,myclf3,stackingclf],['K-Nearest Neighbors Model','Random Forest Model','Naive Bayes Model','StackingClassifier Model']):\r\n",
        "  scores=model_selection.cross_val_score(iterclf,x_train,y_train,cv=3,scoring='accuracy')\r\n",
        "  print(\"Accuracy: %0.3f (+/-%0.3f)[%s]\" % (scores.mean(),scores.std(),iterlabel))"
      ],
      "execution_count": null,
      "outputs": [
        {
          "output_type": "stream",
          "text": [
            "Doing 3-fold cross validation here:\n",
            "\n",
            "Accuracy: 0.907 (+/-0.009)[K-Nearest Neighbors Model]\n",
            "Accuracy: 0.953 (+/-0.009)[Random Forest Model]\n",
            "Accuracy: 0.913 (+/-0.019)[Naive Bayes Model]\n",
            "Accuracy: 0.947 (+/-0.019)[StackingClassifier Model]\n"
          ],
          "name": "stdout"
        }
      ]
    },
    {
      "cell_type": "code",
      "metadata": {
        "id": "Sna7PI4uWCBv"
      },
      "source": [
        ""
      ],
      "execution_count": null,
      "outputs": []
    }
  ]
}