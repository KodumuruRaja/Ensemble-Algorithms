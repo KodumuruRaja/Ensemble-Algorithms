{
  "nbformat": 4,
  "nbformat_minor": 0,
  "metadata": {
    "colab": {
      "name": "Gradient Boosting Classifier and Regressor.ipynb",
      "provenance": [],
      "collapsed_sections": [],
      "authorship_tag": "ABX9TyOmUaL3zLs0PJyCP/z0A3Te",
      "include_colab_link": true
    },
    "kernelspec": {
      "name": "python3",
      "display_name": "Python 3"
    }
  },
  "cells": [
    {
      "cell_type": "markdown",
      "metadata": {
        "id": "view-in-github",
        "colab_type": "text"
      },
      "source": [
        "<a href=\"https://colab.research.google.com/github/KodumuruRaja/Ensemble-Algorithms/blob/main/Gradient-Boosting%20Classifier%20and%20Regressor.ipynb\" target=\"_parent\"><img src=\"https://colab.research.google.com/assets/colab-badge.svg\" alt=\"Open In Colab\"/></a>"
      ]
    },
    {
      "cell_type": "code",
      "metadata": {
        "id": "G2vgnrW0n8D0"
      },
      "source": [
        "# explore gradient boosting ensemble number of samples effect on performance\r\n",
        "from numpy import mean,std,arange\r\n",
        "from sklearn.datasets import make_classification\r\n",
        "from sklearn.model_selection import cross_val_score\r\n",
        "from sklearn.model_selection import RepeatedStratifiedKFold\r\n",
        "from sklearn.ensemble import GradientBoostingClassifier\r\n",
        "from matplotlib import pyplot"
      ],
      "execution_count": null,
      "outputs": []
    },
    {
      "cell_type": "code",
      "metadata": {
        "id": "cRLur2ikoDZl"
      },
      "source": [
        "def get_dataset():\r\n",
        "\tX, y = make_classification(n_samples=1000, n_features=20, n_informative=15, n_redundant=5, random_state=7)\r\n",
        "\treturn X, y"
      ],
      "execution_count": null,
      "outputs": []
    },
    {
      "cell_type": "code",
      "metadata": {
        "id": "ZYHApE_LouL6"
      },
      "source": [
        "def get_models():\r\n",
        "\tmodels = dict()\r\n",
        "\t# explore sample ratio from 10% to 100% in 10% increments\r\n",
        "\tfor i in arange(0.1, 1.1, 0.1):\r\n",
        "\t\tkey = '%.1f' % i\r\n",
        "\t\tmodels[key] = GradientBoostingClassifier(subsample=i)\r\n",
        "\treturn models"
      ],
      "execution_count": null,
      "outputs": []
    },
    {
      "cell_type": "code",
      "metadata": {
        "id": "hYpsDKh4oxhy"
      },
      "source": [
        "def evaluate_model(model, X, y):\r\n",
        "\t# define the evaluation procedure\r\n",
        "\tcv = RepeatedStratifiedKFold(n_splits=10, n_repeats=3, random_state=1)\r\n",
        "\t# evaluate the model and collect the results\r\n",
        "\tscores = cross_val_score(model, X, y, scoring='accuracy', cv=cv, n_jobs=-1)\r\n",
        "\treturn scores"
      ],
      "execution_count": null,
      "outputs": []
    },
    {
      "cell_type": "code",
      "metadata": {
        "id": "wOuVRWsAo0x3"
      },
      "source": [
        "X, y = get_dataset()\r\n",
        "# get the models to evaluate\r\n",
        "models = get_models()\r\n",
        "# evaluate the models and store results\r\n",
        "results, names = list(), list()"
      ],
      "execution_count": null,
      "outputs": []
    },
    {
      "cell_type": "code",
      "metadata": {
        "colab": {
          "base_uri": "https://localhost:8080/"
        },
        "id": "f86L1o65o4P0",
        "outputId": "cc625009-3326-4fcc-871a-7fdcf73cf2cb"
      },
      "source": [
        "for name, model in models.items():\r\n",
        "\t# evaluate the model\r\n",
        "\tscores = evaluate_model(model, X, y)\r\n",
        "\t# store the results\r\n",
        "\tresults.append(scores)\r\n",
        "\tnames.append(name)\r\n",
        "\t# summarize the performance along the way\r\n",
        "\tprint('>%s %.3f (%.3f)' % (name, mean(scores), std(scores)))"
      ],
      "execution_count": null,
      "outputs": [
        {
          "output_type": "stream",
          "text": [
            ">0.1 0.869 (0.037)\n",
            ">0.2 0.894 (0.031)\n",
            ">0.3 0.896 (0.028)\n",
            ">0.4 0.906 (0.029)\n",
            ">0.5 0.903 (0.033)\n",
            ">0.6 0.909 (0.030)\n",
            ">0.7 0.904 (0.027)\n",
            ">0.8 0.908 (0.032)\n",
            ">0.9 0.905 (0.030)\n",
            ">1.0 0.899 (0.030)\n"
          ],
          "name": "stdout"
        }
      ]
    },
    {
      "cell_type": "code",
      "metadata": {
        "colab": {
          "base_uri": "https://localhost:8080/",
          "height": 265
        },
        "id": "RZrIthdUo7mZ",
        "outputId": "34cda7bd-2657-4db0-819e-67882979974c"
      },
      "source": [
        "pyplot.boxplot(results, labels=names, showmeans=True)\r\n",
        "pyplot.show()"
      ],
      "execution_count": null,
      "outputs": [
        {
          "output_type": "display_data",
          "data": {
            "image/png": "[encoded data removed]",
            "text/plain": [
              "<Figure size 432x288 with 1 Axes>"
            ]
          },
          "metadata": {
            "tags": [],
            "needs_background": "light"
          }
        }
      ]
    },
    {
      "cell_type": "code",
      "metadata": {
        "colab": {
          "base_uri": "https://localhost:8080/"
        },
        "id": "1ZyoTNgep0SX",
        "outputId": "c17ac28b-9d49-4bdc-8ff4-0a03ecc7892c"
      },
      "source": [
        "# gradient boosting ensemble for making predictions for regression\r\n",
        "from sklearn.datasets import make_regression\r\n",
        "from sklearn.ensemble import GradientBoostingRegressor\r\n",
        "# define dataset\r\n",
        "X, y = make_regression(n_samples=1000, n_features=20, n_informative=15, noise=0.1, random_state=7)\r\n",
        "# define the model\r\n",
        "model = GradientBoostingRegressor()\r\n",
        "# fit the model on the whole dataset\r\n",
        "model.fit(X, y)\r\n",
        "# make a single prediction\r\n",
        "row = [0.20543991, -0.97049844, -0.81403429, -0.23842689, -0.60704084, -0.48541492, 0.53113006, 2.01834338, -0.90745243, -1.85859731, -1.02334791, -0.6877744, 0.60984819, -0.70630121, -1.29161497, 1.32385441, 1.42150747, 1.26567231, 2.56569098, -0.11154792]\r\n",
        "yhat = model.predict([row])\r\n",
        "# summarize prediction\r\n",
        "print('Prediction: %d' % yhat[0])"
      ],
      "execution_count": null,
      "outputs": [
        {
          "output_type": "stream",
          "text": [
            "Prediction: 37\n"
          ],
          "name": "stdout"
        }
      ]
    },
    {
      "cell_type": "code",
      "metadata": {
        "colab": {
          "base_uri": "https://localhost:8080/"
        },
        "id": "ELy554qYp09m",
        "outputId": "c483cace-36cf-4129-cca5-10b63531b4be"
      },
      "source": [
        "# evaluate gradient boosting ensemble for regression\r\n",
        "from numpy import mean\r\n",
        "from numpy import std\r\n",
        "from sklearn.datasets import make_regression\r\n",
        "from sklearn.model_selection import cross_val_score\r\n",
        "from sklearn.model_selection import RepeatedKFold\r\n",
        "from sklearn.ensemble import GradientBoostingRegressor\r\n",
        "# define dataset\r\n",
        "X, y = make_regression(n_samples=1000, n_features=20, n_informative=15, noise=0.1, random_state=7)\r\n",
        "# define the model\r\n",
        "model = GradientBoostingRegressor()\r\n",
        "# define the evaluation procedure\r\n",
        "cv = RepeatedKFold(n_splits=10, n_repeats=3, random_state=1)\r\n",
        "# evaluate the model\r\n",
        "n_scores = cross_val_score(model, X, y, scoring='neg_mean_absolute_error', cv=cv, n_jobs=-1)\r\n",
        "# report performance\r\n",
        "print('MAE: %.3f (%.3f)' % (mean(n_scores), std(n_scores)))"
      ],
      "execution_count": null,
      "outputs": [
        {
          "output_type": "stream",
          "text": [
            "MAE: -62.468 (3.243)\n"
          ],
          "name": "stdout"
        }
      ]
    },
    {
      "cell_type": "code",
      "metadata": {
        "id": "8VCSVF9eqE4d"
      },
      "source": [
        ""
      ],
      "execution_count": null,
      "outputs": []
    }
  ]
}