{
  "nbformat": 4,
  "nbformat_minor": 0,
  "metadata": {
    "colab": {
      "name": "Voting Classifier.ipynb",
      "provenance": [],
      "collapsed_sections": [],
      "authorship_tag": "ABX9TyMYywm9/5KMlGTGq+tL2WRH",
      "include_colab_link": true
    },
    "kernelspec": {
      "name": "python3",
      "display_name": "Python 3"
    }
  },
  "cells": [
    {
      "cell_type": "markdown",
      "metadata": {
        "id": "view-in-github",
        "colab_type": "text"
      },
      "source": [
        "<a href=\"https://colab.research.google.com/github/KodumuruRaja/Ensemble-Algorithms/blob/main/Voting-Classifier.ipynb\" target=\"_parent\"><img src=\"https://colab.research.google.com/assets/colab-badge.svg\" alt=\"Open In Colab\"/></a>"
      ]
    },
    {
      "cell_type": "code",
      "metadata": {
        "id": "2Ea1ruPjsAT5"
      },
      "source": [
        "import numpy as np\r\n",
        "import pandas as pd"
      ],
      "execution_count": null,
      "outputs": []
    },
    {
      "cell_type": "code",
      "metadata": {
        "id": "D_4rHTFvsDoz"
      },
      "source": [
        "from sklearn.linear_model import LogisticRegression\r\n",
        "from sklearn.naive_bayes import GaussianNB\r\n",
        "from sklearn.svm import SVC\r\n",
        "from sklearn.tree import DecisionTreeClassifier\r\n",
        "from sklearn.ensemble import VotingClassifier\r\n",
        "from sklearn.metrics import accuracy_score\r\n",
        "from sklearn import datasets\r\n",
        "from sklearn.model_selection import train_test_split\r\n",
        "import warnings\r\n",
        "warnings.filterwarnings(\"ignore\")"
      ],
      "execution_count": null,
      "outputs": []
    },
    {
      "cell_type": "code",
      "metadata": {
        "id": "5nsZawiisF6b"
      },
      "source": [
        "brc = datasets.load_breast_cancer()"
      ],
      "execution_count": null,
      "outputs": []
    },
    {
      "cell_type": "code",
      "metadata": {
        "id": "FvqXyhT7tYcL"
      },
      "source": [
        "y = brc.target\r\n",
        "x = brc.data"
      ],
      "execution_count": null,
      "outputs": []
    },
    {
      "cell_type": "code",
      "metadata": {
        "colab": {
          "base_uri": "https://localhost:8080/"
        },
        "id": "-swBB_wJtaoE",
        "outputId": "dffbabbb-64b8-460b-d987-f20aea01536a"
      },
      "source": [
        "x.shape,y.shape"
      ],
      "execution_count": null,
      "outputs": [
        {
          "output_type": "execute_result",
          "data": {
            "text/plain": [
              "((569, 30), (569,))"
            ]
          },
          "metadata": {
            "tags": []
          },
          "execution_count": 5
        }
      ]
    },
    {
      "cell_type": "code",
      "metadata": {
        "id": "v6DeLr_EtdTp"
      },
      "source": [
        "xtrain, xtest, ytrain, ytest = train_test_split(x,y, random_state=9)"
      ],
      "execution_count": null,
      "outputs": []
    },
    {
      "cell_type": "code",
      "metadata": {
        "colab": {
          "base_uri": "https://localhost:8080/"
        },
        "id": "_LPEP6V3tffm",
        "outputId": "27b4c274-dfbe-41b9-d2da-258ceef0cfd1"
      },
      "source": [
        "xtrain.shape, xtest.shape, ytrain.shape, ytest.shape"
      ],
      "execution_count": null,
      "outputs": [
        {
          "output_type": "execute_result",
          "data": {
            "text/plain": [
              "((426, 30), (143, 30), (426,), (143,))"
            ]
          },
          "metadata": {
            "tags": []
          },
          "execution_count": 7
        }
      ]
    },
    {
      "cell_type": "code",
      "metadata": {
        "id": "lob5Myf0thQ3"
      },
      "source": [
        "lg = LogisticRegression()\r\n",
        "sv = SVC()\r\n",
        "nb = GaussianNB()\r\n",
        "dt = DecisionTreeClassifier()"
      ],
      "execution_count": null,
      "outputs": []
    },
    {
      "cell_type": "code",
      "metadata": {
        "colab": {
          "base_uri": "https://localhost:8080/"
        },
        "id": "rO8fihf2tj8L",
        "outputId": "5ac34d07-4355-4dd3-d31f-0a224a848e08"
      },
      "source": [
        "for cls in (lg,sv,dt,nb):\r\n",
        "    cls.fit(xtrain, ytrain)\r\n",
        "    ypred = cls.predict(xtest)\r\n",
        "    print(cls.__class__.__name__, accuracy_score(ytest, ypred))"
      ],
      "execution_count": null,
      "outputs": [
        {
          "output_type": "stream",
          "text": [
            "LogisticRegression 0.958041958041958\n",
            "SVC 0.9090909090909091\n",
            "DecisionTreeClassifier 0.965034965034965\n",
            "GaussianNB 0.9440559440559441\n"
          ],
          "name": "stdout"
        }
      ]
    },
    {
      "cell_type": "markdown",
      "metadata": {
        "id": "AQYCigbjtr7Y"
      },
      "source": [
        "# **Voting Classifier**"
      ]
    },
    {
      "cell_type": "markdown",
      "metadata": {
        "id": "krLKng5st0vt"
      },
      "source": [
        "# **1)Hard Voting**"
      ]
    },
    {
      "cell_type": "code",
      "metadata": {
        "id": "Ccs0e6DKtm-Z"
      },
      "source": [
        "vote = VotingClassifier(\r\n",
        "    estimators = [(\"log\", lg), (\"svc\", sv), (\"Dt\", dt), (\"nG\", nb)],\r\n",
        "    voting='hard',\r\n",
        "    weights=None,\r\n",
        "    n_jobs=None,\r\n",
        "    flatten_transform=True,\r\n",
        ")"
      ],
      "execution_count": null,
      "outputs": []
    },
    {
      "cell_type": "code",
      "metadata": {
        "colab": {
          "base_uri": "https://localhost:8080/"
        },
        "id": "zYFBgmH0tv5v",
        "outputId": "e6213e02-1030-45b0-e4f8-130f1f50fa3d"
      },
      "source": [
        "for clf in (lg, sv, dt, nb, vote):\r\n",
        "    clf.fit(xtrain, ytrain)\r\n",
        "    ypred = clf.predict(xtest)\r\n",
        "    print(clf.__class__.__name__, accuracy_score(ytest, ypred) )"
      ],
      "execution_count": null,
      "outputs": [
        {
          "output_type": "stream",
          "text": [
            "LogisticRegression 0.958041958041958\n",
            "SVC 0.9090909090909091\n",
            "DecisionTreeClassifier 0.951048951048951\n",
            "GaussianNB 0.9440559440559441\n",
            "VotingClassifier 0.972027972027972\n"
          ],
          "name": "stdout"
        }
      ]
    },
    {
      "cell_type": "markdown",
      "metadata": {
        "id": "4zS8pv9dt6pL"
      },
      "source": [
        "# **2)Soft Voting**"
      ]
    },
    {
      "cell_type": "code",
      "metadata": {
        "id": "L95o8rdEu5gN"
      },
      "source": [
        "sv=SVC(probability=True)"
      ],
      "execution_count": null,
      "outputs": []
    },
    {
      "cell_type": "code",
      "metadata": {
        "id": "kK9HQ0hwtyTv"
      },
      "source": [
        "vote = VotingClassifier(\r\n",
        "    estimators = [(\"log\", lg), (\"svc\", sv), (\"Dt\", dt), (\"nG\", nb)],\r\n",
        "    voting='soft',\r\n",
        "    weights=None,\r\n",
        "    n_jobs=None,\r\n",
        "    flatten_transform=True,\r\n",
        ")"
      ],
      "execution_count": null,
      "outputs": []
    },
    {
      "cell_type": "code",
      "metadata": {
        "colab": {
          "base_uri": "https://localhost:8080/"
        },
        "id": "7u_EieETuAAN",
        "outputId": "0987d499-92bc-4887-d742-51354e069a7b"
      },
      "source": [
        "for clf in (lg, sv, dt, nb, vote):\r\n",
        "    clf.fit(xtrain, ytrain)\r\n",
        "    ypred = clf.predict(xtest)\r\n",
        "    print(clf.__class__.__name__, accuracy_score(ytest, ypred) )"
      ],
      "execution_count": null,
      "outputs": [
        {
          "output_type": "stream",
          "text": [
            "LogisticRegression 0.958041958041958\n",
            "SVC 0.9090909090909091\n",
            "DecisionTreeClassifier 0.965034965034965\n",
            "GaussianNB 0.9440559440559441\n",
            "VotingClassifier 0.972027972027972\n"
          ],
          "name": "stdout"
        }
      ]
    },
    {
      "cell_type": "code",
      "metadata": {
        "id": "2p5FO-3yuDQQ"
      },
      "source": [
        ""
      ],
      "execution_count": null,
      "outputs": []
    }
  ]
}