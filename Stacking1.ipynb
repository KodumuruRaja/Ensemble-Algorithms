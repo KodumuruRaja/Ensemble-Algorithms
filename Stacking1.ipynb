{
  "nbformat": 4,
  "nbformat_minor": 0,
  "metadata": {
    "colab": {
      "name": "Stacking.ipynb",
      "provenance": [],
      "collapsed_sections": [],
      "authorship_tag": "ABX9TyMGbZphTliQ1Fgu4fe6zwdd",
      "include_colab_link": true
    },
    "kernelspec": {
      "name": "python3",
      "display_name": "Python 3"
    }
  },
  "cells": [
    {
      "cell_type": "markdown",
      "metadata": {
        "id": "view-in-github",
        "colab_type": "text"
      },
      "source": [
        "<a href=\"https://colab.research.google.com/github/KodumuruRaja/Ensemble-Algorithms/blob/main/Stacking1.ipynb\" target=\"_parent\"><img src=\"https://colab.research.google.com/assets/colab-badge.svg\" alt=\"Open In Colab\"/></a>"
      ]
    },
    {
      "cell_type": "code",
      "metadata": {
        "colab": {
          "base_uri": "https://localhost:8080/"
        },
        "id": "6woMoIiwl-tF",
        "outputId": "1598293b-3387-4ceb-bf61-09d6fd18d758"
      },
      "source": [
        "import numpy as np\r\n",
        "import warnings\r\n",
        "from mlxtend.classifier import StackingClassifier\r\n",
        "from sklearn import datasets\r\n",
        "from sklearn import model_selection\r\n",
        "from sklearn.ensemble import RandomForestClassifier\r\n",
        "from sklearn.linear_model import LogisticRegression\r\n",
        "from sklearn.naive_bayes import GaussianNB \r\n",
        "from sklearn.neighbors import KNeighborsClassifier\r\n",
        "warnings.filterwarnings('ignore')"
      ],
      "execution_count": null,
      "outputs": [
        {
          "output_type": "stream",
          "text": [
            "/usr/local/lib/python3.7/dist-packages/sklearn/externals/six.py:31: FutureWarning: The module is deprecated in version 0.21 and will be removed in version 0.23 since we've dropped support for Python 2.7. Please rely on the official version of six (https://pypi.org/project/six/).\n",
            "  \"(https://pypi.org/project/six/).\", FutureWarning)\n"
          ],
          "name": "stderr"
        }
      ]
    },
    {
      "cell_type": "code",
      "metadata": {
        "id": "bGbDLsCUnRyf"
      },
      "source": [
        "iris = datasets.load_iris()\r\n",
        "X, y = iris.data[:, 1:3], iris.target"
      ],
      "execution_count": null,
      "outputs": []
    },
    {
      "cell_type": "code",
      "metadata": {
        "id": "t-vVUWcrnXqZ"
      },
      "source": [
        "clf1 = KNeighborsClassifier(n_neighbors=1)\r\n",
        "clf2 = RandomForestClassifier(random_state=1)\r\n",
        "clf3 = GaussianNB()\r\n",
        "lr = LogisticRegression()\r\n",
        "sclf = StackingClassifier(classifiers=[clf1, clf2, clf3], \r\n",
        "                          use_probas=True,\r\n",
        "                          meta_classifier=lr)"
      ],
      "execution_count": null,
      "outputs": []
    },
    {
      "cell_type": "code",
      "metadata": {
        "colab": {
          "base_uri": "https://localhost:8080/"
        },
        "id": "RG7PwjcynbMO",
        "outputId": "8bc402f5-1122-44ea-c53c-87d2e7c3b48d"
      },
      "source": [
        "print('3-fold cross validation:\\n')\r\n",
        "\r\n",
        "for clf, label in zip([clf1, clf2, clf3, sclf], \r\n",
        "                      ['KNN', \r\n",
        "                       'Random Forest', \r\n",
        "                       'Naive Bayes',\r\n",
        "                       'StackingClassifier']):\r\n",
        "  \r\n",
        "    scores = model_selection.cross_val_score(clf, X, y, \r\n",
        "                                              cv=3, scoring='f1_macro')\r\n",
        "    print(\"F1 Scores: %0.2f (+/- %0.2f) [%s]\" \r\n",
        "          % (scores.mean(), scores.std(), label))"
      ],
      "execution_count": null,
      "outputs": [
        {
          "output_type": "stream",
          "text": [
            "3-fold cross validation:\n",
            "\n",
            "F1 Scores: 0.91 (+/- 0.01) [KNN]\n",
            "F1 Scores: 0.95 (+/- 0.01) [Random Forest]\n",
            "F1 Scores: 0.91 (+/- 0.02) [Naive Bayes]\n",
            "F1 Scores: 0.92 (+/- 0.02) [StackingClassifier]\n"
          ],
          "name": "stdout"
        }
      ]
    },
    {
      "cell_type": "code",
      "metadata": {
        "id": "sjE3cb9vneQZ"
      },
      "source": [
        ""
      ],
      "execution_count": null,
      "outputs": []
    }
  ]
}